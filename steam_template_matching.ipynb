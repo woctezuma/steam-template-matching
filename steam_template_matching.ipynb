{
  "nbformat": 4,
  "nbformat_minor": 0,
  "metadata": {
    "colab": {
      "private_outputs": true,
      "provenance": [],
      "collapsed_sections": [
        "xenhFtn4s9Ma",
        "_6E1JXzSrPF9",
        "L2CXf7n-kfuB",
        "mqKohFZTtXWm",
        "SqngkmNMmhny"
      ]
    },
    "kernelspec": {
      "name": "python3",
      "display_name": "Python 3"
    },
    "language_info": {
      "name": "python"
    },
    "gpuClass": "standard"
  },
  "cells": [
    {
      "cell_type": "markdown",
      "source": [
        "# Steam Template Matching\n",
        "Reference: https://github.com/woctezuma/steam-template-matching"
      ],
      "metadata": {
        "id": "eL8Fjiw2gJxP"
      }
    },
    {
      "cell_type": "markdown",
      "source": [
        "## Install Python packages"
      ],
      "metadata": {
        "id": "xenhFtn4s9Ma"
      }
    },
    {
      "cell_type": "code",
      "execution_count": null,
      "metadata": {
        "id": "aia2H4FGzxtx"
      },
      "outputs": [],
      "source": [
        "%cd /content\n",
        "%pip install -q gamedatacrunch img2dataset mediapy"
      ]
    },
    {
      "cell_type": "markdown",
      "source": [
        "## Download images from Steam (only the first time)"
      ],
      "metadata": {
        "id": "_6E1JXzSrPF9"
      }
    },
    {
      "cell_type": "code",
      "source": [
        "def get_image_url(app_id):\n",
        "  return f'https://cdn.cloudflare.steamstatic.com/steam/apps/{app_id}/capsule_231x87.jpg'\n",
        "\n",
        "def write_to_text_file(app_ids, fname):\n",
        "  with open(fname, 'w') as f:\n",
        "    for app_id in app_ids:\n",
        "      url = get_image_url(app_id)\n",
        "      f.write(f'{url}\\n')"
      ],
      "metadata": {
        "id": "nGxj7U4IkHT9"
      },
      "execution_count": null,
      "outputs": []
    },
    {
      "cell_type": "code",
      "source": [
        "import gamedatacrunch as gdc\n",
        "\n",
        "app_ids = gdc.load_app_ids()\n",
        "write_to_text_file(app_ids, fname='myimglist.txt')"
      ],
      "metadata": {
        "id": "u3oco092qfj8"
      },
      "execution_count": null,
      "outputs": []
    },
    {
      "cell_type": "code",
      "source": [
        "!echo img2dataset --url_list=myimglist.txt --output_folder=steam_images --resize_mode=no\n",
        "!echo zip -r steam_images.zip steam_images"
      ],
      "metadata": {
        "id": "5Vm2KpwvrUPU"
      },
      "execution_count": null,
      "outputs": []
    },
    {
      "cell_type": "markdown",
      "source": [
        "## Download images from Github (once archived the first time)"
      ],
      "metadata": {
        "id": "L2CXf7n-kfuB"
      }
    },
    {
      "cell_type": "code",
      "source": [
        "!curl -O -L https://github.com/woctezuma/steam-template-matching/releases/download/capsule_231x87/steam_images.zip\n",
        "!unzip -q steam_images.zip"
      ],
      "metadata": {
        "id": "Nd9YT7BbkdYd"
      },
      "execution_count": null,
      "outputs": []
    },
    {
      "cell_type": "markdown",
      "source": [
        "## Download the template"
      ],
      "metadata": {
        "id": "mqKohFZTtXWm"
      }
    },
    {
      "cell_type": "code",
      "source": [
        "!curl -O -L https://github.com/woctezuma/steam-template-matching/releases/download/capsule_231x87/template.png"
      ],
      "metadata": {
        "id": "yc4y11tlmGKY"
      },
      "execution_count": null,
      "outputs": []
    },
    {
      "cell_type": "code",
      "source": [
        "import mediapy as media\n",
        "import skimage.io\n",
        "\n",
        "from skimage.transform import rescale\n",
        "\n",
        "def load_template_from_disk(scale=1.0, verbose=True):\n",
        "  template_fname = 'template.png'\n",
        "  template = skimage.io.imread(template_fname)\n",
        "\n",
        "  # Remove the transparency channel\n",
        "  template = template[..., :3]\n",
        "  # *Caveat*: this is important, because the template\n",
        "  # is a PNG file while the other images are JPG files!\n",
        "\n",
        "  if scale != 1.0:\n",
        "    template = rescale(template, (scale, scale, 1))\n",
        "\n",
        "  if verbose:\n",
        "    media.show_image(template)\n",
        "    print(template.shape)\n",
        "\n",
        "  return template\n",
        "\n",
        "template = load_template_from_disk()"
      ],
      "metadata": {
        "id": "M06jirIFIEOt"
      },
      "execution_count": null,
      "outputs": []
    },
    {
      "cell_type": "markdown",
      "source": [
        "## Template Matching"
      ],
      "metadata": {
        "id": "mDyShJW2vXU1"
      }
    },
    {
      "cell_type": "code",
      "source": [
        "import glob\n",
        "\n",
        "def get_test_fnames(image_folder, file_ext = '.jpg'):\n",
        "  return sorted(glob.glob(image_folder +'/*' + file_ext))\n",
        "\n",
        "test_fnames = get_test_fnames('steam_images/*')\n",
        "print(f'#images = {len(test_fnames)}')"
      ],
      "metadata": {
        "id": "D3GIKI78Cdur"
      },
      "execution_count": null,
      "outputs": []
    },
    {
      "cell_type": "markdown",
      "source": [
        "### Example"
      ],
      "metadata": {
        "id": "SqngkmNMmhny"
      }
    },
    {
      "cell_type": "code",
      "source": [
        "import numpy as np\n",
        "from skimage.feature import match_template\n",
        "\n",
        "fname = \"steam_images/00003/000032503.jpg\"\n",
        "image = skimage.io.imread(fname)\n",
        "\n",
        "media.show_image(image)\n",
        "print(image.shape)\n",
        "\n",
        "result = np.squeeze(match_template(image, template))\n",
        "score = np.max(result)"
      ],
      "metadata": {
        "id": "_Yr9ZsXivYmi"
      },
      "execution_count": null,
      "outputs": []
    },
    {
      "cell_type": "code",
      "source": [
        "import matplotlib.pyplot as plt\n",
        "\n",
        "coin = template\n",
        "\n",
        "# Reference: https://scikit-image.org/docs/stable/auto_examples/features_detection/plot_template.html\n",
        "\n",
        "ij = np.unravel_index(np.argmax(result), result.shape)\n",
        "x, y = ij[::-1]\n",
        "\n",
        "fig = plt.figure(figsize=(8, 3))\n",
        "ax1 = plt.subplot(1, 3, 1)\n",
        "ax2 = plt.subplot(1, 3, 2)\n",
        "ax3 = plt.subplot(1, 3, 3, sharex=ax2, sharey=ax2)\n",
        "\n",
        "ax1.imshow(coin, cmap=plt.cm.gray)\n",
        "ax1.set_axis_off()\n",
        "ax1.set_title('template')\n",
        "\n",
        "ax2.imshow(image, cmap=plt.cm.gray)\n",
        "ax2.set_axis_off()\n",
        "ax2.set_title('image')\n",
        "# highlight matched region\n",
        "hcoin, wcoin, num_channels = coin.shape\n",
        "rect = plt.Rectangle((x, y), wcoin, hcoin, edgecolor='r', facecolor='none')\n",
        "ax2.add_patch(rect)\n",
        "\n",
        "ax3.imshow(np.squeeze(result))\n",
        "ax3.set_axis_off()\n",
        "ax3.set_title('`match_template`\\nresult')\n",
        "# highlight matched region\n",
        "ax3.autoscale(False)\n",
        "ax3.plot(x, y, 'o', markeredgecolor='r', markerfacecolor='none', markersize=10)\n",
        "\n",
        "plt.show()"
      ],
      "metadata": {
        "id": "1VKygPIEwHPs"
      },
      "execution_count": null,
      "outputs": []
    },
    {
      "cell_type": "markdown",
      "source": [
        "### Run"
      ],
      "metadata": {
        "id": "j1GsKjS9LKlb"
      }
    },
    {
      "cell_type": "code",
      "source": [
        "template_scale = 1.0\n",
        "template = load_template_from_disk(template_scale)"
      ],
      "metadata": {
        "id": "d-anS1fkIp8M"
      },
      "execution_count": null,
      "outputs": []
    },
    {
      "cell_type": "code",
      "source": [
        "start_fname = \"\"\n",
        "\n",
        "if start_fname is None or len(start_fname) == 0:\n",
        "  start_index = 0\n",
        "else:\n",
        "  start_index = test_fnames.index(start_fname)\n",
        "\n",
        "if start_index == 0:\n",
        "  d = {}\n",
        "  max_score = 0\n",
        "  best_fname = None\n",
        "\n",
        "for counter, fname in enumerate(test_fnames[start_index:], start=1):\n",
        "  if counter % 1000 == 0:\n",
        "    print(f'Currently at {fname}. So far, max = {max_score:.2} at {best_fname}')\n",
        "\n",
        "  image = skimage.io.imread(fname)\n",
        "  \n",
        "  try:\n",
        "    result = np.squeeze(match_template(image, template))\n",
        "  except ValueError:\n",
        "    print(f'Skipping {fname}')\n",
        "    continue\n",
        "\n",
        "  score = np.max(result)  \n",
        "  d[fname] = score\n",
        "\n",
        "  if score > max_score:\n",
        "    max_score = score\n",
        "    best_fname = fname\n",
        "\n",
        "    media.show_image(image)\n",
        "    print(f\"{fname} score: {score}\")\n",
        "\n",
        "print(f'In the end, max = {max_score:.2} at {best_fname}')"
      ],
      "metadata": {
        "id": "WtmAryXXxKh9"
      },
      "execution_count": null,
      "outputs": []
    }
  ]
}